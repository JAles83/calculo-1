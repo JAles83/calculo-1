{
 "cells": [
  {
   "cell_type": "markdown",
   "id": "d4e638cb",
   "metadata": {},
   "source": [
    "# Sección 11: Aplicaciones Avanzadas de las Derivadas"
   ]
  },
  {
   "cell_type": "code",
   "execution_count": 1,
   "id": "6838a396",
   "metadata": {},
   "outputs": [],
   "source": [
    "import numpy as np\n",
    "import matplotlib.pyplot as plt\n",
    "import sympy as sp\n",
    "from sympy import symbols, diff, Eq, solve, sin, cos, tan, sqrt\n",
    "\n",
    "# Configuración\n",
    "plt.style.use('seaborn-v0_8-darkgrid')\n",
    "plt.rcParams['figure.figsize'] = (12, 8)\n",
    "plt.rcParams['font.size'] = 12"
   ]
  }
 ],
 "metadata": {
  "kernelspec": {
   "display_name": "venv",
   "language": "python",
   "name": "python3"
  },
  "language_info": {
   "codemirror_mode": {
    "name": "ipython",
    "version": 3
   },
   "file_extension": ".py",
   "mimetype": "text/x-python",
   "name": "python",
   "nbconvert_exporter": "python",
   "pygments_lexer": "ipython3",
   "version": "3.12.7"
  }
 },
 "nbformat": 4,
 "nbformat_minor": 5
}
