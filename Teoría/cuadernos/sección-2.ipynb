{
 "cells": [
  {
   "cell_type": "markdown",
   "id": "e4514234",
   "metadata": {},
   "source": [
    "# Sección 2: Límites de combinaciones y funciones compuestas\n",
    "\n",
    "En este cuaderno se estudian las reglas para calcular límites de sumas, productos, \n",
    "cocientes y funciones compuestas, con ejemplos y visualizaciones."
   ]
  },
  {
   "cell_type": "code",
   "execution_count": 3,
   "id": "ac3a3a87",
   "metadata": {},
   "outputs": [],
   "source": [
    "import sympy as sp"
   ]
  },
  {
   "cell_type": "markdown",
   "id": "da4916ce",
   "metadata": {},
   "source": [
    "## Propiedades de la combinación de funciones\n",
    "\n",
    "Dadas dos funciones $f(x)$ y $g(x)$ con límites $c$ y $d$ respectivamente para \n",
    "$x \\to a$. Los límites de sus combinaciones son los siguientes:\n",
    "\n",
    "1. \n",
    "$$f(x) \\pm g(x) = \\lim_{x \\to a} f(x) \\pm \\lim_{x \\to a} g(x) = c \\pm d$$\n",
    "2. \n",
    "$$n \\cdot \\lim_{x \\to a} f(x) = n \\cdot c$$\n",
    "3. \n",
    "$$\\lim_{x \\to a} [f(x) \\cdot g(x)] = \\lim_{x \\to a} f(x) \\cdot \\lim_{x \\to a} g(x) = c \\cdot d$$\n",
    "4.\n",
    "$$\\lim_{x \\to a} \\frac{f(x)}{g(x)} = \\frac{\\lim_{x \\to a} f(x)}{\\lim_{x \\to a} g(x)} \\quad \\text{cuando} \\, \\lim_{x \\to a} g(x) \\neq 0$$\n",
    "5. \n",
    "$$\\lim_{x \\to a} [f(x)]^n = [\\lim_{x \\to a} f(x)]^n \\quad \\forall n \\in \\mathbb{R}$$"
   ]
  },
  {
   "cell_type": "code",
   "execution_count": null,
   "id": "6a2e84c0",
   "metadata": {},
   "outputs": [
    {
     "name": "stdout",
     "output_type": "stream",
     "text": [
      "Límite de f(x) en x=1: 2\n",
      "Límite de g(x) en x=1: -1\n",
      "\n",
      "Suma: límite directo = 1, suma de límites = 1\n",
      "Resta: límite directo = 3, resta de límites = 3\n",
      "Constante por función: límite directo = 6, propiedad = 6\n",
      "Producto: límite directo = -2, producto de límites = -2\n",
      "Cociente: límite directo = -2, cociente de límites = -2\n",
      "Potencia: límite directo = 4, potencia de límite = 4\n"
     ]
    }
   ],
   "source": [
    "# Definimos las funciones y el punto a\n",
    "x = sp.symbols('x')\n",
    "f = x**2 + 1\n",
    "g = 2*x - 3\n",
    "a = 1\n",
    "\n",
    "# Calculamos los límites individuales\n",
    "lim_f = sp.limit(f, x, a)\n",
    "lim_g = sp.limit(g, x, a)\n",
    "\n",
    "# 1. Suma y resta\n",
    "lim_suma = sp.limit(f + g, x, a)\n",
    "lim_suma_prop = lim_f + lim_g\n",
    "\n",
    "lim_resta = sp.limit(f - g, x, a)\n",
    "lim_resta_prop = lim_f - lim_g\n",
    "\n",
    "# 2. Constante por función\n",
    "n = 3\n",
    "lim_const = sp.limit(n * f, x, a)\n",
    "lim_const_prop = n * lim_f\n",
    "\n",
    "# 3. Producto\n",
    "lim_prod = sp.limit(f * g, x, a)\n",
    "lim_prod_prop = lim_f * lim_g\n",
    "\n",
    "# 4. Cociente\n",
    "lim_coc = sp.limit(f / g, x, a)\n",
    "lim_coc_prop = lim_f / lim_g\n",
    "\n",
    "# 5. Potencia\n",
    "n_pot = 2\n",
    "lim_pot = sp.limit(f**n_pot, x, a)\n",
    "lim_pot_prop = lim_f**n_pot\n",
    "\n",
    "print(f\"Límite de f(x) en x={a}: {lim_f}\")\n",
    "print(f\"Límite de g(x) en x={a}: {lim_g}\\n\")\n",
    "\n",
    "print(f\"Suma: límite directo = {lim_suma}, suma de límites = {lim_suma_prop}\")\n",
    "print(f\"Resta: límite directo = {lim_resta}, resta de límites = {lim_resta_prop}\")\n",
    "print(f\"Constante por función: límite directo = {lim_const}, propiedad = {lim_const_prop}\")\n",
    "print(f\"Producto: límite directo = {lim_prod}, producto de límites = {lim_prod_prop}\")\n",
    "print(f\"Cociente: límite directo = {lim_coc}, cociente de límites = {lim_coc_prop}\")\n",
    "print(f\"Potencia: límite directo = {lim_pot}, potencia de límite = {lim_pot_prop}\")"
   ]
  },
  {
   "cell_type": "markdown",
   "id": "76917049",
   "metadata": {},
   "source": [
    "## Límites de funciones compuestas\n",
    "\n",
    "El teorema del límite de una función compuesta nos dice que:\n",
    "\n",
    "Formalmente, el teorema para el límite de una función compuesta nos dice que, si $f$ es continua en $b$, y el límite de $g(x)$ cuando $x \\to a$ es $b$, \n",
    "\n",
    "$$\n",
    "\\lim_{x \\to a} g(x) = b\n",
    "$$\n",
    "\n",
    "entonces, el límite  cuando $x \\to a$ de $f(g(x))$ será $f(b)$, es decir:\n",
    "$$\n",
    "\\lim_{x \\to a} f(g(x)) = f(b)\n",
    "$$\n",
    "\n",
    "Por lo tanto, tenemos la siguiente propiedad para el límite de funciones compuestas:\n",
    "\n",
    "$$ \\lim_{x \\to a} f(g(x)) = f\\left(\\lim_{x \\to a} g(x)\\right) $$\n",
    "\n",
    "Es decir, el límite de la función compuesta $f(g(x))$ cuando $x$ tiende a $a$ es igual a aplicar la función $f$ al límite de $g(x)$ cuando $x$ tiende a $a$, siempre que $f$ sea continua en ese punto."
   ]
  },
  {
   "cell_type": "code",
   "execution_count": 10,
   "id": "69b3f874",
   "metadata": {},
   "outputs": [
    {
     "name": "stdout",
     "output_type": "stream",
     "text": [
      "\n",
      "Límite de la función compuesta f(g(x)) en x=-1: -2\n",
      "Límite de la función compuesta usando el teorema: -2\n"
     ]
    }
   ],
   "source": [
    "x = sp.symbols('x')\n",
    "# Definimos las funciones y el punto a\n",
    "f = x +1 \n",
    "g = x**2 - 4\n",
    "a = -1\n",
    "# calculamos la funcion compuesta f(g)\n",
    "f_compuesta = f.subs(x, g)\n",
    "\n",
    "# Calculamos el límite de la función compuesta\n",
    "lim_compuesta = sp.limit(f_compuesta, x, a)\n",
    "\n",
    "# Calculamos el límite usando el teorema de límites compuestos\n",
    "lim_compuesta_teorema = f.subs(x, sp.limit(g, x, a))\n",
    "\n",
    "print(f\"\\nLímite de la función compuesta f(g(x)) en x={a}: {lim_compuesta}\")\n",
    "print(f\"Límite de la función compuesta usando el teorema: {lim_compuesta_teorema}\")"
   ]
  }
 ],
 "metadata": {
  "kernelspec": {
   "display_name": "venv",
   "language": "python",
   "name": "python3"
  },
  "language_info": {
   "codemirror_mode": {
    "name": "ipython",
    "version": 3
   },
   "file_extension": ".py",
   "mimetype": "text/x-python",
   "name": "python",
   "nbconvert_exporter": "python",
   "pygments_lexer": "ipython3",
   "version": "3.12.7"
  }
 },
 "nbformat": 4,
 "nbformat_minor": 5
}
